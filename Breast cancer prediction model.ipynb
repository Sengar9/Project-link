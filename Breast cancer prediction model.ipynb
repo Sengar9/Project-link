{
 "cells": [
  {
   "cell_type": "code",
   "execution_count": null,
   "id": "b2d538e7",
   "metadata": {},
   "outputs": [],
   "source": [
    "import numpy as np\n",
    "import pandas as pd\n",
    "import matplotlib.pyplot as plt\n",
    "import seaborn as sns"
   ]
  },
  {
   "cell_type": "code",
   "execution_count": null,
   "id": "013cc2e5",
   "metadata": {},
   "outputs": [],
   "source": [
    "dataset = pd.read_csv('/content/data.csv')\n",
    "     "
   ]
  },
  {
   "cell_type": "code",
   "execution_count": null,
   "id": "4ca502b8",
   "metadata": {},
   "outputs": [],
   "source": [
    "dataset.head()"
   ]
  },
  {
   "cell_type": "code",
   "execution_count": null,
   "id": "e2d72e6e",
   "metadata": {},
   "outputs": [],
   "source": [
    "dataset.shape"
   ]
  },
  {
   "cell_type": "code",
   "execution_count": null,
   "id": "ff061808",
   "metadata": {},
   "outputs": [],
   "source": [
    "\n",
    "dataset.info()"
   ]
  },
  {
   "cell_type": "code",
   "execution_count": null,
   "id": "6759a3b6",
   "metadata": {},
   "outputs": [],
   "source": [
    "dataset.select_dtypes(include='object').columns"
   ]
  },
  {
   "cell_type": "code",
   "execution_count": null,
   "id": "9df0bdbe",
   "metadata": {},
   "outputs": [],
   "source": [
    "\n",
    "len(dataset.select_dtypes(include='object').columns)"
   ]
  },
  {
   "cell_type": "code",
   "execution_count": null,
   "id": "adb93e0c",
   "metadata": {},
   "outputs": [],
   "source": [
    "dataset.select_dtypes(include=['float64','int64']).columns"
   ]
  },
  {
   "cell_type": "code",
   "execution_count": null,
   "id": "3d818255",
   "metadata": {},
   "outputs": [],
   "source": [
    "\n",
    "len(dataset.select_dtypes(include=['float64','int64']).columns)"
   ]
  },
  {
   "cell_type": "code",
   "execution_count": null,
   "id": "18cad272",
   "metadata": {},
   "outputs": [],
   "source": [
    "dataset.describe()"
   ]
  },
  {
   "cell_type": "code",
   "execution_count": null,
   "id": "3484cb29",
   "metadata": {},
   "outputs": [],
   "source": [
    "dataset.columns"
   ]
  },
  {
   "cell_type": "code",
   "execution_count": null,
   "id": "4148b983",
   "metadata": {},
   "outputs": [],
   "source": [
    "dataset.isnull().values.any()"
   ]
  },
  {
   "cell_type": "code",
   "execution_count": null,
   "id": "63919977",
   "metadata": {},
   "outputs": [],
   "source": [
    "dataset.isnull().values.sum()"
   ]
  },
  {
   "cell_type": "code",
   "execution_count": null,
   "id": "e7ac369b",
   "metadata": {},
   "outputs": [],
   "source": [
    "dataset.columns[dataset.isnull().any()]"
   ]
  },
  {
   "cell_type": "code",
   "execution_count": null,
   "id": "042c4aa1",
   "metadata": {},
   "outputs": [],
   "source": [
    "\n",
    "len(dataset.columns[dataset.isnull().any()])"
   ]
  },
  {
   "cell_type": "code",
   "execution_count": null,
   "id": "a04b175e",
   "metadata": {},
   "outputs": [],
   "source": [
    "\n",
    "dataset['Unnamed: 32'].count()"
   ]
  },
  {
   "cell_type": "code",
   "execution_count": null,
   "id": "2163cf3c",
   "metadata": {},
   "outputs": [],
   "source": [
    "\n",
    "dataset = dataset.drop(columns='Unnamed: 32')"
   ]
  },
  {
   "cell_type": "code",
   "execution_count": null,
   "id": "d46f7c8a",
   "metadata": {},
   "outputs": [],
   "source": [
    "dataset.shape"
   ]
  },
  {
   "cell_type": "code",
   "execution_count": null,
   "id": "4e714a1f",
   "metadata": {},
   "outputs": [],
   "source": [
    "dataset.isnull().values.any()"
   ]
  },
  {
   "cell_type": "code",
   "execution_count": null,
   "id": "a2500670",
   "metadata": {},
   "outputs": [],
   "source": [
    "dataset.select_dtypes(include='object').columns\n",
    "     \n",
    "\n",
    "\n",
    "dataset['diagnosis'].unique()\n",
    "     \n",
    "\n",
    "\n",
    "dataset['diagnosis'].nunique()\n",
    "\n",
    "dataset = pd.get_dummies(data=dataset, drop_first=True)\n",
    "     \n",
    "\n",
    "dataset.head()\n",
    "\n",
    "sns.countplot(dataset['diagnosis_M'], label='Count')\n",
    "plt.show()\n",
    "     \n",
    "     "
   ]
  },
  {
   "cell_type": "code",
   "execution_count": null,
   "id": "ddb07563",
   "metadata": {},
   "outputs": [],
   "source": [
    "(dataset.diagnosis_M == 0).sum()"
   ]
  },
  {
   "cell_type": "code",
   "execution_count": null,
   "id": "bbc08694",
   "metadata": {},
   "outputs": [],
   "source": [
    "dataset_2 = dataset.drop(columns='diagnosis_M')"
   ]
  },
  {
   "cell_type": "code",
   "execution_count": null,
   "id": "e5716b28",
   "metadata": {},
   "outputs": [],
   "source": [
    "\n",
    "dataset_2.head()"
   ]
  },
  {
   "cell_type": "code",
   "execution_count": null,
   "id": "0fa9f089",
   "metadata": {},
   "outputs": [],
   "source": [
    "dataset_2.corrwith(dataset['diagnosis_M']).plot.bar(\n",
    "    figsize=(20,10), title = 'Correlated with diagnosis_M', rot=45, grid=True\n",
    ")"
   ]
  },
  {
   "cell_type": "code",
   "execution_count": null,
   "id": "9ed0ec97",
   "metadata": {},
   "outputs": [],
   "source": [
    "corr = dataset.corr()\n",
    "\n",
    "corr\n",
    "     "
   ]
  },
  {
   "cell_type": "code",
   "execution_count": null,
   "id": "fb9c6758",
   "metadata": {},
   "outputs": [],
   "source": [
    "plt.figure(figsize=(20,10))\n",
    "sns.heatmap(corr, annot=True)"
   ]
  },
  {
   "cell_type": "code",
   "execution_count": null,
   "id": "6f33ccdc",
   "metadata": {},
   "outputs": [],
   "source": [
    "\n",
    "dataset.head()\n",
    "\n",
    "x = dataset.iloc[:, 1:-1].values"
   ]
  },
  {
   "cell_type": "code",
   "execution_count": null,
   "id": "a4e7f8db",
   "metadata": {},
   "outputs": [],
   "source": [
    "x.shape"
   ]
  },
  {
   "cell_type": "code",
   "execution_count": null,
   "id": "2c6bb304",
   "metadata": {},
   "outputs": [],
   "source": [
    "y.shape\n",
    "     \n",
    "\n",
    "\n",
    "from sklearn.model_selection import  train_test_split\n",
    "     \n",
    "\n",
    "x_train, x_test, y_train, y_test = train_test_split(x, y, test_size=0.2, random_state=0)\n",
    "     \n",
    "\n",
    "x_train.shape\n",
    "     \n",
    "\n",
    "\n",
    "x_test.shape\n",
    "     \n",
    "\n",
    "\n",
    "y_train.shape\n",
    "     \n",
    "\n",
    "\n",
    "y_test.shape"
   ]
  },
  {
   "cell_type": "code",
   "execution_count": null,
   "id": "a556b3a0",
   "metadata": {},
   "outputs": [],
   "source": [
    "from sklearn.preprocessing import StandardScaler\n",
    "     \n",
    "\n",
    "sc = StandardScaler()\n",
    "     \n",
    "\n",
    "x_train = sc.fit_transform(x_train)\n",
    "x_test = sc.transform(x_test)\n",
    "     \n",
    "\n",
    "x_train\n",
    "\n",
    "\n",
    "x_test\n",
    "     "
   ]
  },
  {
   "cell_type": "code",
   "execution_count": null,
   "id": "b3f4cb4e",
   "metadata": {},
   "outputs": [],
   "source": [
    "from sklearn.linear_model import LogisticRegression\n",
    "     \n",
    "\n",
    "classifir_lr = LogisticRegression(random_state=0)\n",
    "     \n",
    "\n",
    "classifir_lr.fit(x_train, y_train)\n",
    "     "
   ]
  },
  {
   "cell_type": "code",
   "execution_count": null,
   "id": "1c108ef8",
   "metadata": {},
   "outputs": [],
   "source": [
    "y_pred = classifir_lr.predict(x_test)\n",
    "     \n",
    "\n",
    "from sklearn.metrics import accuracy_score, confusion_matrix, f1_score, precision_score, recall_score\n",
    "     \n",
    "\n",
    "acc = accuracy_score(y_test, y_pred)\n",
    "f1 = f1_score(y_test, y_pred)\n",
    "prec = precision_score(y_test, y_pred)\n",
    "rec = recall_score(y_test, y_pred)\n",
    "     \n",
    "\n",
    "results = pd.DataFrame([['Logistic Regression', acc, f1, prec, rec]],\n",
    "               columns = ['Model', 'Accuracy', 'F1 Score', 'Precision', 'Recall'])\n",
    "     \n",
    "\n",
    "results"
   ]
  },
  {
   "cell_type": "code",
   "execution_count": null,
   "id": "0e63705e",
   "metadata": {},
   "outputs": [],
   "source": [
    "cm = confusion_matrix(y_test, y_pred)\n",
    "print(cm)"
   ]
  },
  {
   "cell_type": "code",
   "execution_count": null,
   "id": "ab469836",
   "metadata": {},
   "outputs": [],
   "source": [
    "from sklearn.model_selection import cross_val_score\n",
    "     \n",
    "\n",
    "accuracies = cross_val_score(estimator=classifir_lr, X=x_train, y=y_train, cv=10)\n",
    "     \n",
    "\n",
    "print(\"Accuracy is {:.2f} %\".format(accuracies.mean()*100))\n",
    "print(\"Standard Deviation is {:.2f} %\".format(accuracies.std()*100))\n",
    "     "
   ]
  },
  {
   "cell_type": "code",
   "execution_count": null,
   "id": "827e328b",
   "metadata": {},
   "outputs": [],
   "source": [
    "from sklearn.ensemble import RandomForestClassifier\n",
    "     \n",
    "\n",
    "classifier_rm = RandomForestClassifier(random_state=0)\n",
    "classifier_rm.fit(x_train, y_train)"
   ]
  },
  {
   "cell_type": "code",
   "execution_count": null,
   "id": "f39833de",
   "metadata": {},
   "outputs": [],
   "source": [
    "y_pred = classifier_rm.predict(x_test)\n",
    "     \n",
    "\n",
    "from sklearn.metrics import accuracy_score, confusion_matrix, f1_score, precision_score, recall_score\n",
    "     \n",
    "\n",
    "acc = accuracy_score(y_test, y_pred)\n",
    "f1 = f1_score(y_test, y_pred)\n",
    "prec = precision_score(y_test, y_pred)\n",
    "rec = recall_score(y_test, y_pred)\n",
    "     \n",
    "\n",
    "model_results = pd.DataFrame([['Random forest', acc, f1, prec, rec]],\n",
    "               columns = ['Model', 'Accuracy', 'F1 Score', 'Precision', 'Recall'])\n",
    "     \n",
    "\n",
    "results = results.append(model_results, ignore_index=True)\n",
    "     \n",
    "\n",
    "results\n",
    "     "
   ]
  },
  {
   "cell_type": "code",
   "execution_count": null,
   "id": "cfc37488",
   "metadata": {},
   "outputs": [],
   "source": [
    "cm = confusion_matrix(y_test, y_pred)\n",
    "print(cm)"
   ]
  },
  {
   "cell_type": "code",
   "execution_count": null,
   "id": "ddeacaf6",
   "metadata": {},
   "outputs": [],
   "source": [
    "from sklearn.model_selection import cross_val_score\n",
    "\n",
    "accuracies = cross_val_score(estimator=classifier_rm, X=x_train, y=y_train, cv=10)\n",
    "\n",
    "print(\"Accuracy is {:.2f} %\".format(accuracies.mean()*100))\n",
    "print(\"Standard Deviation is {:.2f} %\".format(accuracies.std()*100))\n",
    "     "
   ]
  },
  {
   "cell_type": "code",
   "execution_count": null,
   "id": "4e602df5",
   "metadata": {},
   "outputs": [],
   "source": [
    "from sklearn.model_selection import RandomizedSearchCV\n",
    "     \n",
    "\n",
    "parameters = {'penalty':['l1', 'l2', 'elasticnet', 'none'],\n",
    "              'C':[0.25, 0.5, 0.75, 1.0, 1.25, 1.5, 1.75, 2.0],\n",
    "              'solver': ['newton-cg', 'lbfgs', 'liblinear', 'sag', 'saga']\n",
    "              }\n",
    "     \n",
    "\n",
    "parameters\n",
    "\n",
    "random_search = RandomizedSearchCV(estimator=classifir_lr, param_distributions=parameters, n_iter=5, \n",
    "                                   scoring='roc_auc', n_jobs = -1, cv=5, verbose=3)\n",
    "     \n",
    "\n",
    "random_search.fit(x_train, y_train)\n",
    "\n",
    "random_search.best_estimator_\n",
    "\n",
    "random_search.best_score_\n",
    "\n",
    "random_search.best_params_"
   ]
  },
  {
   "cell_type": "code",
   "execution_count": null,
   "id": "ab922a20",
   "metadata": {},
   "outputs": [],
   "source": [
    "from sklearn.linear_model import LogisticRegression\n",
    "classifir = LogisticRegression(C=1.5, class_weight=None, dual=False, fit_intercept=True,\n",
    "                   intercept_scaling=1, l1_ratio=None, max_iter=100,\n",
    "                   multi_class='auto', n_jobs=None, penalty='l1',\n",
    "                   random_state=0, solver='saga', tol=0.0001, verbose=0,\n",
    "                   warm_start=False)\n",
    "classifir.fit(x_train, y_train)"
   ]
  },
  {
   "cell_type": "code",
   "execution_count": null,
   "id": "9ea26d05",
   "metadata": {},
   "outputs": [],
   "source": [
    "y_pred = classifir.predict(x_test)\n",
    "     \n",
    "\n",
    "acc = accuracy_score(y_test, y_pred)\n",
    "f1 = f1_score(y_test, y_pred)\n",
    "prec = precision_score(y_test, y_pred)\n",
    "rec = recall_score(y_test, y_pred)\n",
    "\n",
    "model_results = pd.DataFrame([['Final Logistic Regression', acc, f1, prec, rec]],\n",
    "               columns = ['Model', 'Accuracy', 'F1 Score', 'Precision', 'Recall'])\n",
    "\n",
    "\n",
    "results = results.append(model_results, ignore_index = True)\n",
    "results"
   ]
  },
  {
   "cell_type": "code",
   "execution_count": null,
   "id": "56192873",
   "metadata": {},
   "outputs": [],
   "source": [
    "from sklearn.model_selection import cross_val_score\n",
    "\n",
    "accuracies = cross_val_score(estimator=classifir, X=x_train, y=y_train, cv=10)\n",
    "\n",
    "print(\"Accuracy is {:.2f} %\".format(accuracies.mean()*100))\n",
    "print(\"Standard Deviation is {:.2f} %\".format(accuracies.std()*100))"
   ]
  },
  {
   "cell_type": "code",
   "execution_count": null,
   "id": "291f430a",
   "metadata": {},
   "outputs": [],
   "source": [
    "\n",
    "dataset.head()"
   ]
  },
  {
   "cell_type": "code",
   "execution_count": null,
   "id": "1b1b24d5",
   "metadata": {},
   "outputs": [],
   "source": [
    "single_obs = [[17.99, 10.38, 122.80, 1001.0, 0.11840, 0.27760,\t0.3001,\t0.14710, 0.2419, 0.07871, 1.0950, 0.9053, 8.589, 153.40, 0.006399, 0.04904,\t0.05373, 0.01587, 0.03003, 0.006193, 25.38,\n",
    "17.33, 184.60, 2019.0, 0.1622, 0.6656, 0.7119, 0.2654, 0.4601, 0.11890]]\n",
    "     "
   ]
  },
  {
   "cell_type": "code",
   "execution_count": null,
   "id": "7e5f149a",
   "metadata": {},
   "outputs": [],
   "source": [
    "single_obs"
   ]
  },
  {
   "cell_type": "code",
   "execution_count": null,
   "id": "b54f3175",
   "metadata": {},
   "outputs": [],
   "source": [
    "\n",
    "classifir.predict(sc.transform(single_obs))\n",
    "     "
   ]
  },
  {
   "cell_type": "code",
   "execution_count": null,
   "id": "892bb644",
   "metadata": {},
   "outputs": [],
   "source": []
  },
  {
   "cell_type": "code",
   "execution_count": null,
   "id": "488458d6",
   "metadata": {},
   "outputs": [],
   "source": []
  },
  {
   "cell_type": "code",
   "execution_count": null,
   "id": "29e22c79",
   "metadata": {},
   "outputs": [],
   "source": []
  },
  {
   "cell_type": "code",
   "execution_count": null,
   "id": "878f1dc1",
   "metadata": {},
   "outputs": [],
   "source": []
  },
  {
   "cell_type": "code",
   "execution_count": null,
   "id": "7dc8e0ee",
   "metadata": {},
   "outputs": [],
   "source": []
  },
  {
   "cell_type": "code",
   "execution_count": null,
   "id": "a4402a00",
   "metadata": {},
   "outputs": [],
   "source": []
  },
  {
   "cell_type": "code",
   "execution_count": null,
   "id": "9fef89ce",
   "metadata": {},
   "outputs": [],
   "source": []
  },
  {
   "cell_type": "code",
   "execution_count": null,
   "id": "7fd79e47",
   "metadata": {},
   "outputs": [],
   "source": []
  },
  {
   "cell_type": "code",
   "execution_count": null,
   "id": "f431d7a5",
   "metadata": {},
   "outputs": [],
   "source": []
  },
  {
   "cell_type": "code",
   "execution_count": null,
   "id": "b39dccc3",
   "metadata": {},
   "outputs": [],
   "source": []
  }
 ],
 "metadata": {
  "kernelspec": {
   "display_name": "Python 3 (ipykernel)",
   "language": "python",
   "name": "python3"
  },
  "language_info": {
   "codemirror_mode": {
    "name": "ipython",
    "version": 3
   },
   "file_extension": ".py",
   "mimetype": "text/x-python",
   "name": "python",
   "nbconvert_exporter": "python",
   "pygments_lexer": "ipython3",
   "version": "3.9.13"
  }
 },
 "nbformat": 4,
 "nbformat_minor": 5
}
